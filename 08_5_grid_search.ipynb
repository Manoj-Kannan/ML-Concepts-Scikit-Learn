{
 "cells": [
  {
   "cell_type": "markdown",
   "metadata": {},
   "source": [
    "## Cross-validate and grid search an entire pipeline!\n",
    "\n",
    "Preprocessing steps will automatically occur AFTER each cross-validation split, which is critical if you want meaningful scores."
   ]
  },
  {
   "cell_type": "code",
   "execution_count": 1,
   "metadata": {},
   "outputs": [],
   "source": [
    "import pandas as pd\n",
    "df = pd.read_csv('Datasets/08_3_titanic_train.csv')"
   ]
  },
  {
   "cell_type": "code",
   "execution_count": 2,
   "metadata": {},
   "outputs": [],
   "source": [
    "cols = ['Sex', 'Name']\n",
    "X = df[cols]\n",
    "y = df['Survived']"
   ]
  },
  {
   "cell_type": "code",
   "execution_count": 3,
   "metadata": {},
   "outputs": [],
   "source": [
    "from sklearn.preprocessing import OneHotEncoder\n",
    "from sklearn.feature_extraction.text import CountVectorizer\n",
    "from sklearn.compose import make_column_transformer"
   ]
  },
  {
   "cell_type": "code",
   "execution_count": 4,
   "metadata": {},
   "outputs": [],
   "source": [
    "ohe = OneHotEncoder()\n",
    "vect = CountVectorizer()\n",
    "ct = make_column_transformer((ohe, ['Sex']), (vect, 'Name'))\n",
    "# CountVectorizer expects 1-D input"
   ]
  },
  {
   "cell_type": "code",
   "execution_count": 5,
   "metadata": {},
   "outputs": [],
   "source": [
    "from sklearn.linear_model import LogisticRegression\n",
    "clf = LogisticRegression(solver='liblinear', random_state=1)"
   ]
  },
  {
   "cell_type": "code",
   "execution_count": 6,
   "metadata": {},
   "outputs": [],
   "source": [
    "from sklearn.pipeline import make_pipeline\n",
    "pipe = make_pipeline(ct, clf)"
   ]
  },
  {
   "cell_type": "code",
   "execution_count": 7,
   "metadata": {},
   "outputs": [
    {
     "data": {
      "text/plain": [
       "Pipeline(steps=[('columntransformer',\n",
       "                 ColumnTransformer(transformers=[('onehotencoder',\n",
       "                                                  OneHotEncoder(), ['Sex']),\n",
       "                                                 ('countvectorizer',\n",
       "                                                  CountVectorizer(),\n",
       "                                                  'Name')])),\n",
       "                ('logisticregression',\n",
       "                 LogisticRegression(random_state=1, solver='liblinear'))])"
      ]
     },
     "execution_count": 7,
     "metadata": {},
     "output_type": "execute_result"
    }
   ],
   "source": [
    "pipe"
   ]
  },
  {
   "cell_type": "code",
   "execution_count": 8,
   "metadata": {},
   "outputs": [
    {
     "data": {
      "text/plain": [
       "{'memory': None,\n",
       " 'steps': [('columntransformer',\n",
       "   ColumnTransformer(transformers=[('onehotencoder', OneHotEncoder(), ['Sex']),\n",
       "                                   ('countvectorizer', CountVectorizer(), 'Name')])),\n",
       "  ('logisticregression',\n",
       "   LogisticRegression(random_state=1, solver='liblinear'))],\n",
       " 'verbose': False,\n",
       " 'columntransformer': ColumnTransformer(transformers=[('onehotencoder', OneHotEncoder(), ['Sex']),\n",
       "                                 ('countvectorizer', CountVectorizer(), 'Name')]),\n",
       " 'logisticregression': LogisticRegression(random_state=1, solver='liblinear'),\n",
       " 'columntransformer__n_jobs': None,\n",
       " 'columntransformer__remainder': 'drop',\n",
       " 'columntransformer__sparse_threshold': 0.3,\n",
       " 'columntransformer__transformer_weights': None,\n",
       " 'columntransformer__transformers': [('onehotencoder',\n",
       "   OneHotEncoder(),\n",
       "   ['Sex']),\n",
       "  ('countvectorizer', CountVectorizer(), 'Name')],\n",
       " 'columntransformer__verbose': False,\n",
       " 'columntransformer__onehotencoder': OneHotEncoder(),\n",
       " 'columntransformer__countvectorizer': CountVectorizer(),\n",
       " 'columntransformer__onehotencoder__categories': 'auto',\n",
       " 'columntransformer__onehotencoder__drop': None,\n",
       " 'columntransformer__onehotencoder__dtype': numpy.float64,\n",
       " 'columntransformer__onehotencoder__handle_unknown': 'error',\n",
       " 'columntransformer__onehotencoder__sparse': True,\n",
       " 'columntransformer__countvectorizer__analyzer': 'word',\n",
       " 'columntransformer__countvectorizer__binary': False,\n",
       " 'columntransformer__countvectorizer__decode_error': 'strict',\n",
       " 'columntransformer__countvectorizer__dtype': numpy.int64,\n",
       " 'columntransformer__countvectorizer__encoding': 'utf-8',\n",
       " 'columntransformer__countvectorizer__input': 'content',\n",
       " 'columntransformer__countvectorizer__lowercase': True,\n",
       " 'columntransformer__countvectorizer__max_df': 1.0,\n",
       " 'columntransformer__countvectorizer__max_features': None,\n",
       " 'columntransformer__countvectorizer__min_df': 1,\n",
       " 'columntransformer__countvectorizer__ngram_range': (1, 1),\n",
       " 'columntransformer__countvectorizer__preprocessor': None,\n",
       " 'columntransformer__countvectorizer__stop_words': None,\n",
       " 'columntransformer__countvectorizer__strip_accents': None,\n",
       " 'columntransformer__countvectorizer__token_pattern': '(?u)\\\\b\\\\w\\\\w+\\\\b',\n",
       " 'columntransformer__countvectorizer__tokenizer': None,\n",
       " 'columntransformer__countvectorizer__vocabulary': None,\n",
       " 'logisticregression__C': 1.0,\n",
       " 'logisticregression__class_weight': None,\n",
       " 'logisticregression__dual': False,\n",
       " 'logisticregression__fit_intercept': True,\n",
       " 'logisticregression__intercept_scaling': 1,\n",
       " 'logisticregression__l1_ratio': None,\n",
       " 'logisticregression__max_iter': 100,\n",
       " 'logisticregression__multi_class': 'auto',\n",
       " 'logisticregression__n_jobs': None,\n",
       " 'logisticregression__penalty': 'l2',\n",
       " 'logisticregression__random_state': 1,\n",
       " 'logisticregression__solver': 'liblinear',\n",
       " 'logisticregression__tol': 0.0001,\n",
       " 'logisticregression__verbose': 0,\n",
       " 'logisticregression__warm_start': False}"
      ]
     },
     "execution_count": 8,
     "metadata": {},
     "output_type": "execute_result"
    }
   ],
   "source": [
    "pipe.get_params()"
   ]
  },
  {
   "cell_type": "markdown",
   "metadata": {},
   "source": [
    "## Cross-validate the entire pipeline (not just the model)"
   ]
  },
  {
   "cell_type": "code",
   "execution_count": 9,
   "metadata": {},
   "outputs": [
    {
     "name": "stdout",
     "output_type": "stream",
     "text": [
      "[0.81564246 0.81460674 0.80337079 0.75280899 0.8258427 ]\n",
      "0.8024543343167408\n"
     ]
    }
   ],
   "source": [
    "from sklearn.model_selection import cross_val_score\n",
    "score = cross_val_score(pipe, X, y, cv=5, scoring='accuracy')\n",
    "print(score)\n",
    "print(score.mean())"
   ]
  },
  {
   "cell_type": "markdown",
   "metadata": {},
   "source": [
    "## Find optimal tuning parameters for the entire pipeline"
   ]
  },
  {
   "cell_type": "code",
   "execution_count": 10,
   "metadata": {},
   "outputs": [],
   "source": [
    "# specify parameter values to search\n",
    "params = {}\n",
    "params['columntransformer__countvectorizer__min_df'] = [1, 2]\n",
    "params['logisticregression__C'] = [0.1, 1, 10]\n",
    "params['logisticregression__penalty'] = ['l1', 'l2']"
   ]
  },
  {
   "cell_type": "code",
   "execution_count": 11,
   "metadata": {},
   "outputs": [
    {
     "data": {
      "text/plain": [
       "{'columntransformer__countvectorizer__min_df': [1, 2],\n",
       " 'logisticregression__C': [0.1, 1, 10],\n",
       " 'logisticregression__penalty': ['l1', 'l2']}"
      ]
     },
     "execution_count": 11,
     "metadata": {},
     "output_type": "execute_result"
    }
   ],
   "source": [
    "params"
   ]
  },
  {
   "cell_type": "code",
   "execution_count": 12,
   "metadata": {},
   "outputs": [],
   "source": [
    "# try all possible combinations of those parameter values\n",
    "from sklearn.model_selection import GridSearchCV\n",
    "grid = GridSearchCV(pipe, params, cv=5, scoring='accuracy')\n",
    "grid.fit(X, y);"
   ]
  },
  {
   "cell_type": "code",
   "execution_count": 13,
   "metadata": {},
   "outputs": [
    {
     "data": {
      "text/plain": [
       "GridSearchCV(cv=5,\n",
       "             estimator=Pipeline(steps=[('columntransformer',\n",
       "                                        ColumnTransformer(transformers=[('onehotencoder',\n",
       "                                                                         OneHotEncoder(),\n",
       "                                                                         ['Sex']),\n",
       "                                                                        ('countvectorizer',\n",
       "                                                                         CountVectorizer(),\n",
       "                                                                         'Name')])),\n",
       "                                       ('logisticregression',\n",
       "                                        LogisticRegression(random_state=1,\n",
       "                                                           solver='liblinear'))]),\n",
       "             param_grid={'columntransformer__countvectorizer__min_df': [1, 2],\n",
       "                         'logisticregression__C': [0.1, 1, 10],\n",
       "                         'logisticregression__penalty': ['l1', 'l2']},\n",
       "             scoring='accuracy')"
      ]
     },
     "execution_count": 13,
     "metadata": {},
     "output_type": "execute_result"
    }
   ],
   "source": [
    "grid\n",
    "# steps to be performed by the GridSearchCV"
   ]
  },
  {
   "cell_type": "code",
   "execution_count": 14,
   "metadata": {},
   "outputs": [
    {
     "data": {
      "text/plain": [
       "{'cv': 5,\n",
       " 'error_score': nan,\n",
       " 'estimator__memory': None,\n",
       " 'estimator__steps': [('columntransformer',\n",
       "   ColumnTransformer(transformers=[('onehotencoder', OneHotEncoder(), ['Sex']),\n",
       "                                   ('countvectorizer', CountVectorizer(), 'Name')])),\n",
       "  ('logisticregression',\n",
       "   LogisticRegression(random_state=1, solver='liblinear'))],\n",
       " 'estimator__verbose': False,\n",
       " 'estimator__columntransformer': ColumnTransformer(transformers=[('onehotencoder', OneHotEncoder(), ['Sex']),\n",
       "                                 ('countvectorizer', CountVectorizer(), 'Name')]),\n",
       " 'estimator__logisticregression': LogisticRegression(random_state=1, solver='liblinear'),\n",
       " 'estimator__columntransformer__n_jobs': None,\n",
       " 'estimator__columntransformer__remainder': 'drop',\n",
       " 'estimator__columntransformer__sparse_threshold': 0.3,\n",
       " 'estimator__columntransformer__transformer_weights': None,\n",
       " 'estimator__columntransformer__transformers': [('onehotencoder',\n",
       "   OneHotEncoder(),\n",
       "   ['Sex']),\n",
       "  ('countvectorizer', CountVectorizer(), 'Name')],\n",
       " 'estimator__columntransformer__verbose': False,\n",
       " 'estimator__columntransformer__onehotencoder': OneHotEncoder(),\n",
       " 'estimator__columntransformer__countvectorizer': CountVectorizer(),\n",
       " 'estimator__columntransformer__onehotencoder__categories': 'auto',\n",
       " 'estimator__columntransformer__onehotencoder__drop': None,\n",
       " 'estimator__columntransformer__onehotencoder__dtype': numpy.float64,\n",
       " 'estimator__columntransformer__onehotencoder__handle_unknown': 'error',\n",
       " 'estimator__columntransformer__onehotencoder__sparse': True,\n",
       " 'estimator__columntransformer__countvectorizer__analyzer': 'word',\n",
       " 'estimator__columntransformer__countvectorizer__binary': False,\n",
       " 'estimator__columntransformer__countvectorizer__decode_error': 'strict',\n",
       " 'estimator__columntransformer__countvectorizer__dtype': numpy.int64,\n",
       " 'estimator__columntransformer__countvectorizer__encoding': 'utf-8',\n",
       " 'estimator__columntransformer__countvectorizer__input': 'content',\n",
       " 'estimator__columntransformer__countvectorizer__lowercase': True,\n",
       " 'estimator__columntransformer__countvectorizer__max_df': 1.0,\n",
       " 'estimator__columntransformer__countvectorizer__max_features': None,\n",
       " 'estimator__columntransformer__countvectorizer__min_df': 1,\n",
       " 'estimator__columntransformer__countvectorizer__ngram_range': (1, 1),\n",
       " 'estimator__columntransformer__countvectorizer__preprocessor': None,\n",
       " 'estimator__columntransformer__countvectorizer__stop_words': None,\n",
       " 'estimator__columntransformer__countvectorizer__strip_accents': None,\n",
       " 'estimator__columntransformer__countvectorizer__token_pattern': '(?u)\\\\b\\\\w\\\\w+\\\\b',\n",
       " 'estimator__columntransformer__countvectorizer__tokenizer': None,\n",
       " 'estimator__columntransformer__countvectorizer__vocabulary': None,\n",
       " 'estimator__logisticregression__C': 1.0,\n",
       " 'estimator__logisticregression__class_weight': None,\n",
       " 'estimator__logisticregression__dual': False,\n",
       " 'estimator__logisticregression__fit_intercept': True,\n",
       " 'estimator__logisticregression__intercept_scaling': 1,\n",
       " 'estimator__logisticregression__l1_ratio': None,\n",
       " 'estimator__logisticregression__max_iter': 100,\n",
       " 'estimator__logisticregression__multi_class': 'auto',\n",
       " 'estimator__logisticregression__n_jobs': None,\n",
       " 'estimator__logisticregression__penalty': 'l2',\n",
       " 'estimator__logisticregression__random_state': 1,\n",
       " 'estimator__logisticregression__solver': 'liblinear',\n",
       " 'estimator__logisticregression__tol': 0.0001,\n",
       " 'estimator__logisticregression__verbose': 0,\n",
       " 'estimator__logisticregression__warm_start': False,\n",
       " 'estimator': Pipeline(steps=[('columntransformer',\n",
       "                  ColumnTransformer(transformers=[('onehotencoder',\n",
       "                                                   OneHotEncoder(), ['Sex']),\n",
       "                                                  ('countvectorizer',\n",
       "                                                   CountVectorizer(),\n",
       "                                                   'Name')])),\n",
       "                 ('logisticregression',\n",
       "                  LogisticRegression(random_state=1, solver='liblinear'))]),\n",
       " 'n_jobs': None,\n",
       " 'param_grid': {'columntransformer__countvectorizer__min_df': [1, 2],\n",
       "  'logisticregression__C': [0.1, 1, 10],\n",
       "  'logisticregression__penalty': ['l1', 'l2']},\n",
       " 'pre_dispatch': '2*n_jobs',\n",
       " 'refit': True,\n",
       " 'return_train_score': False,\n",
       " 'scoring': 'accuracy',\n",
       " 'verbose': 0}"
      ]
     },
     "execution_count": 14,
     "metadata": {},
     "output_type": "execute_result"
    }
   ],
   "source": [
    "grid.get_params()"
   ]
  },
  {
   "cell_type": "code",
   "execution_count": 15,
   "metadata": {},
   "outputs": [
    {
     "data": {
      "text/plain": [
       "0.8215177954930638"
      ]
     },
     "execution_count": 15,
     "metadata": {},
     "output_type": "execute_result"
    }
   ],
   "source": [
    "# what was the best score found during the search?\n",
    "grid.best_score_"
   ]
  },
  {
   "cell_type": "code",
   "execution_count": 16,
   "metadata": {},
   "outputs": [
    {
     "data": {
      "text/plain": [
       "{'columntransformer__countvectorizer__min_df': 1,\n",
       " 'logisticregression__C': 1,\n",
       " 'logisticregression__penalty': 'l1'}"
      ]
     },
     "execution_count": 16,
     "metadata": {},
     "output_type": "execute_result"
    }
   ],
   "source": [
    "# which combination of parameters produced the best score?\n",
    "grid.best_params_"
   ]
  }
 ],
 "metadata": {
  "kernelspec": {
   "display_name": "Python 3 (ipykernel)",
   "language": "python",
   "name": "python3"
  },
  "language_info": {
   "codemirror_mode": {
    "name": "ipython",
    "version": 3
   },
   "file_extension": ".py",
   "mimetype": "text/x-python",
   "name": "python",
   "nbconvert_exporter": "python",
   "pygments_lexer": "ipython3",
   "version": "3.8.8"
  }
 },
 "nbformat": 4,
 "nbformat_minor": 4
}
