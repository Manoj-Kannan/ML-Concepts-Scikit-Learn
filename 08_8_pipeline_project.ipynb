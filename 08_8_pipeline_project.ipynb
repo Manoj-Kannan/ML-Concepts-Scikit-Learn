{
 "cells": [
  {
   "cell_type": "markdown",
   "metadata": {},
   "source": [
    "## Pipelines explained using iris dataset"
   ]
  },
  {
   "cell_type": "code",
   "execution_count": 1,
   "metadata": {},
   "outputs": [],
   "source": [
    "from sklearn.datasets import load_iris\n",
    "from sklearn.model_selection import train_test_split\n",
    "from sklearn.preprocessing import StandardScaler\n",
    "from sklearn.decomposition import PCA\n",
    "from sklearn.pipeline import Pipeline\n",
    "from sklearn.linear_model import LogisticRegression\n",
    "from sklearn.tree import DecisionTreeClassifier\n",
    "from sklearn.ensemble import RandomForestClassifier"
   ]
  },
  {
   "cell_type": "code",
   "execution_count": 2,
   "metadata": {},
   "outputs": [],
   "source": [
    "iris_df=load_iris()"
   ]
  },
  {
   "cell_type": "code",
   "execution_count": 3,
   "metadata": {},
   "outputs": [
    {
     "data": {
      "text/plain": [
       "array([[5.1, 3.5, 1.4, 0.2],\n",
       "       [4.9, 3. , 1.4, 0.2],\n",
       "       [4.7, 3.2, 1.3, 0.2],\n",
       "       [4.6, 3.1, 1.5, 0.2],\n",
       "       [5. , 3.6, 1.4, 0.2]])"
      ]
     },
     "execution_count": 3,
     "metadata": {},
     "output_type": "execute_result"
    }
   ],
   "source": [
    "iris_df.data[:5]"
   ]
  },
  {
   "cell_type": "code",
   "execution_count": 4,
   "metadata": {},
   "outputs": [],
   "source": [
    "X_train,X_test,y_train,y_test=train_test_split(iris_df.data,iris_df.target,test_size=0.3,random_state=0)"
   ]
  },
  {
   "cell_type": "markdown",
   "metadata": {},
   "source": [
    "## Pipelines Creation\n",
    "    1. Data Preprocessing by using Standard Scaler\n",
    "    2. Reduce Dimension using PCA\n",
    "    3. Apply  Classifier"
   ]
  },
  {
   "cell_type": "code",
   "execution_count": 5,
   "metadata": {},
   "outputs": [],
   "source": [
    "pipeline_lr=Pipeline([('scalar1',StandardScaler()),\n",
    "                     ('pca1',PCA(n_components=2)),\n",
    "                     ('lr_classifier',LogisticRegression(random_state=0))])"
   ]
  },
  {
   "cell_type": "code",
   "execution_count": 6,
   "metadata": {},
   "outputs": [],
   "source": [
    "pipeline_dt=Pipeline([('scalar2',StandardScaler()),\n",
    "                     ('pca2',PCA(n_components=2)),\n",
    "                     ('dt_classifier',DecisionTreeClassifier())])"
   ]
  },
  {
   "cell_type": "code",
   "execution_count": 7,
   "metadata": {},
   "outputs": [],
   "source": [
    "pipeline_randomforest=Pipeline([('scalar3',StandardScaler()),\n",
    "                     ('pca3',PCA(n_components=2)),\n",
    "                     ('rf_classifier',RandomForestClassifier())])"
   ]
  },
  {
   "cell_type": "code",
   "execution_count": 8,
   "metadata": {},
   "outputs": [],
   "source": [
    "## Lets make the list of pipelines\n",
    "pipelines = [pipeline_lr, pipeline_dt, pipeline_randomforest]"
   ]
  },
  {
   "cell_type": "code",
   "execution_count": 9,
   "metadata": {},
   "outputs": [],
   "source": [
    "best_accuracy=0.0\n",
    "best_classifier=0\n",
    "best_pipeline=\"\""
   ]
  },
  {
   "cell_type": "code",
   "execution_count": 10,
   "metadata": {},
   "outputs": [],
   "source": [
    "# Dictionary of pipelines and classifier types for ease of reference\n",
    "pipe_dict = {0: 'Logistic Regression', 1: 'Decision Tree', 2: 'RandomForest'}\n",
    "\n",
    "# Fit the pipelines\n",
    "for pipe in pipelines:\n",
    "    pipe.fit(X_train, y_train)"
   ]
  },
  {
   "cell_type": "code",
   "execution_count": 11,
   "metadata": {},
   "outputs": [
    {
     "name": "stdout",
     "output_type": "stream",
     "text": [
      "Logistic Regression Test Accuracy: 0.8666666666666667\n",
      "Decision Tree Test Accuracy: 0.9111111111111111\n",
      "RandomForest Test Accuracy: 0.9111111111111111\n"
     ]
    }
   ],
   "source": [
    "for i,model in enumerate(pipelines):\n",
    "    print(\"{} Test Accuracy: {}\".format(pipe_dict[i],model.score(X_test,y_test)))"
   ]
  },
  {
   "cell_type": "code",
   "execution_count": 12,
   "metadata": {},
   "outputs": [
    {
     "name": "stdout",
     "output_type": "stream",
     "text": [
      "Classifier with best accuracy is \"Decision Tree\" with accuracy score 0.9111111111111111.\n"
     ]
    }
   ],
   "source": [
    "for i,model in enumerate(pipelines):\n",
    "    if model.score(X_test,y_test) > best_accuracy:\n",
    "        best_accuracy=model.score(X_test,y_test)\n",
    "        best_pipeline=model\n",
    "        best_classifier=i\n",
    "print('Classifier with best accuracy is \\\"{}\\\" with accuracy score {}.'.format(pipe_dict[best_classifier],best_accuracy))"
   ]
  },
  {
   "cell_type": "markdown",
   "metadata": {},
   "source": [
    "## Pipelines Perform Hyperparameter Tuning Using Grid SearchCV"
   ]
  },
  {
   "cell_type": "code",
   "execution_count": 13,
   "metadata": {},
   "outputs": [],
   "source": [
    "import numpy as np\n",
    "from sklearn.model_selection import GridSearchCV"
   ]
  },
  {
   "cell_type": "code",
   "execution_count": 14,
   "metadata": {},
   "outputs": [
    {
     "name": "stderr",
     "output_type": "stream",
     "text": [
      "C:\\ProgramData\\Anaconda3\\lib\\site-packages\\sklearn\\model_selection\\_validation.py:372: FitFailedWarning: \n",
      "50 fits failed out of a total of 1920.\n",
      "The score on these train-test partitions for these parameters will be set to nan.\n",
      "If these failures are not expected, you can try to debug them by setting error_score='raise'.\n",
      "\n",
      "Below are more details about the failures:\n",
      "--------------------------------------------------------------------------------\n",
      "50 fits failed with the following error:\n",
      "Traceback (most recent call last):\n",
      "  File \"C:\\ProgramData\\Anaconda3\\lib\\site-packages\\sklearn\\model_selection\\_validation.py\", line 681, in _fit_and_score\n",
      "    estimator.fit(X_train, y_train, **fit_params)\n",
      "  File \"C:\\ProgramData\\Anaconda3\\lib\\site-packages\\sklearn\\pipeline.py\", line 394, in fit\n",
      "    self._final_estimator.fit(Xt, y, **fit_params_last_step)\n",
      "  File \"C:\\ProgramData\\Anaconda3\\lib\\site-packages\\sklearn\\linear_model\\_logistic.py\", line 1461, in fit\n",
      "    solver = _check_solver(self.solver, self.penalty, self.dual)\n",
      "  File \"C:\\ProgramData\\Anaconda3\\lib\\site-packages\\sklearn\\linear_model\\_logistic.py\", line 447, in _check_solver\n",
      "    raise ValueError(\n",
      "ValueError: Solver lbfgs supports only 'l2' or 'none' penalties, got l1 penalty.\n",
      "\n",
      "  warnings.warn(some_fits_failed_message, FitFailedWarning)\n",
      "C:\\ProgramData\\Anaconda3\\lib\\site-packages\\sklearn\\model_selection\\_search.py:969: UserWarning: One or more of the test scores are non-finite: [0.95238095        nan 0.94285714        nan 0.94285714        nan\n",
      " 0.97142857        nan 0.97142857        nan 0.96190476        nan\n",
      " 0.96190476        nan 0.95238095        nan 0.95238095        nan\n",
      " 0.95238095        nan 0.95238095 0.98095238 0.98095238 0.94285714\n",
      " 0.94285714 0.98095238 0.98095238 0.97142857 0.94285714 0.98095238\n",
      " 0.98095238 0.97142857 0.96190476 0.98095238 0.98095238 0.98095238\n",
      " 0.97142857 0.98095238 0.98095238 0.98095238 0.96190476 0.98095238\n",
      " 0.98095238 0.97142857 0.96190476 0.98095238 0.98095238 0.97142857\n",
      " 0.96190476 0.98095238 0.98095238 0.97142857 0.96190476 0.98095238\n",
      " 0.98095238 0.97142857 0.96190476 0.98095238 0.98095238 0.97142857\n",
      " 0.83809524 0.93333333 0.91428571 0.84761905 0.92380952 0.92380952\n",
      " 0.83809524 0.93333333 0.91428571 0.81904762 0.92380952 0.9047619\n",
      " 0.88571429 0.92380952 0.91428571 0.37142857 0.37142857 0.37142857\n",
      " 0.93333333 0.94285714 0.94285714 0.96190476 0.95238095 0.94285714\n",
      " 0.95238095 0.95238095 0.94285714 0.8952381  0.94285714 0.94285714\n",
      " 0.91428571 0.95238095 0.94285714 0.35238095 0.37142857 0.37142857\n",
      " 0.94285714 0.94285714 0.94285714 0.94285714 0.94285714 0.94285714\n",
      " 0.93333333 0.94285714 0.94285714 0.94285714 0.94285714 0.94285714\n",
      " 0.93333333 0.94285714 0.94285714 0.37142857 0.37142857 0.37142857\n",
      " 0.9047619  0.87619048 0.93333333 0.85714286 0.9047619  0.92380952\n",
      " 0.84761905 0.91428571 0.92380952 0.8952381  0.92380952 0.92380952\n",
      " 0.88571429 0.93333333 0.91428571 0.37142857 0.37142857 0.37142857\n",
      " 0.92380952 0.94285714 0.94285714 0.93333333 0.94285714 0.94285714\n",
      " 0.94285714 0.94285714 0.94285714 0.94285714 0.94285714 0.95238095\n",
      " 0.95238095 0.95238095 0.95238095 0.35238095 0.37142857 0.37142857\n",
      " 0.93333333 0.94285714 0.94285714 0.95238095 0.94285714 0.94285714\n",
      " 0.95238095 0.94285714 0.94285714 0.95238095 0.95238095 0.94285714\n",
      " 0.96190476 0.94285714 0.95238095 0.37142857 0.37142857 0.37142857\n",
      " 0.86666667 0.91428571 0.9047619  0.88571429 0.91428571 0.93333333\n",
      " 0.8        0.93333333 0.93333333 0.86666667 0.91428571 0.91428571\n",
      " 0.88571429 0.8952381  0.91428571 0.37142857 0.37142857 0.37142857\n",
      " 0.94285714 0.95238095 0.94285714 0.94285714 0.94285714 0.94285714\n",
      " 0.94285714 0.94285714 0.94285714 0.93333333 0.94285714 0.94285714\n",
      " 0.93333333 0.94285714 0.94285714 0.37142857 0.37142857 0.37142857\n",
      " 0.93333333 0.94285714 0.94285714 0.93333333 0.94285714 0.94285714\n",
      " 0.95238095 0.94285714 0.94285714 0.95238095 0.94285714 0.94285714\n",
      " 0.94285714 0.94285714 0.94285714 0.37142857 0.37142857 0.37142857\n",
      " 0.84761905 0.93333333 0.93333333 0.83809524 0.92380952 0.92380952\n",
      " 0.85714286 0.93333333 0.93333333 0.80952381 0.94285714 0.91428571\n",
      " 0.87619048 0.94285714 0.93333333 0.37142857 0.37142857 0.37142857\n",
      " 0.94285714 0.94285714 0.94285714 0.95238095 0.95238095 0.94285714\n",
      " 0.93333333 0.95238095 0.94285714 0.95238095 0.93333333 0.94285714\n",
      " 0.95238095 0.95238095 0.95238095 0.37142857 0.37142857 0.37142857\n",
      " 0.94285714 0.94285714 0.94285714 0.95238095 0.95238095 0.94285714\n",
      " 0.94285714 0.94285714 0.94285714 0.94285714 0.94285714 0.94285714\n",
      " 0.92380952 0.94285714 0.93333333 0.36190476 0.37142857 0.37142857\n",
      " 0.83809524 0.91428571 0.91428571 0.87619048 0.91428571 0.91428571\n",
      " 0.84761905 0.92380952 0.92380952 0.78095238 0.8952381  0.92380952\n",
      " 0.91428571 0.91428571 0.93333333 0.37142857 0.37142857 0.37142857\n",
      " 0.93333333 0.93333333 0.94285714 0.94285714 0.94285714 0.94285714\n",
      " 0.94285714 0.95238095 0.94285714 0.94285714 0.94285714 0.94285714\n",
      " 0.96190476 0.95238095 0.95238095 0.37142857 0.37142857 0.37142857\n",
      " 0.95238095 0.94285714 0.94285714 0.94285714 0.94285714 0.94285714\n",
      " 0.93333333 0.95238095 0.94285714 0.95238095 0.94285714 0.94285714\n",
      " 0.93333333 0.93333333 0.94285714 0.37142857 0.37142857 0.37142857\n",
      " 0.85714286 0.93333333 0.93333333 0.82857143 0.91428571 0.93333333\n",
      " 0.87619048 0.87619048 0.93333333 0.92380952 0.91428571 0.93333333\n",
      " 0.94285714 0.91428571 0.93333333 0.35238095 0.37142857 0.37142857\n",
      " 0.95238095 0.94285714 0.94285714 0.95238095 0.94285714 0.95238095\n",
      " 0.94285714 0.94285714 0.94285714 0.93333333 0.93333333 0.94285714\n",
      " 0.94285714 0.94285714 0.94285714 0.34285714 0.37142857 0.37142857\n",
      " 0.94285714 0.94285714 0.94285714 0.94285714 0.94285714 0.94285714\n",
      " 0.93333333 0.94285714 0.94285714 0.94285714 0.94285714 0.94285714\n",
      " 0.94285714 0.93333333 0.94285714 0.36190476 0.37142857 0.37142857]\n",
      "  warnings.warn(\n",
      "C:\\ProgramData\\Anaconda3\\lib\\site-packages\\sklearn\\linear_model\\_sag.py:352: ConvergenceWarning: The max_iter was reached which means the coef_ did not converge\n",
      "  warnings.warn(\n"
     ]
    }
   ],
   "source": [
    "# Create a pipeline\n",
    "pipe = Pipeline([(\"classifier\", RandomForestClassifier())])\n",
    "# Create dictionary with candidate learning algorithms and their hyperparameters\n",
    "grid_param = [\n",
    "                {\"classifier\": [LogisticRegression()],\n",
    "                 \"classifier__penalty\": ['l2','l1'],\n",
    "                 \"classifier__C\": np.logspace(0, 4, 10)\n",
    "                 },\n",
    "                {\"classifier\": [LogisticRegression()],\n",
    "                 \"classifier__penalty\": ['l2'],\n",
    "                 \"classifier__C\": np.logspace(0, 4, 10),\n",
    "                 \"classifier__solver\":['newton-cg','saga','sag','liblinear'] ##This solvers don't allow L1 penalty\n",
    "                 },\n",
    "                {\"classifier\": [RandomForestClassifier()],\n",
    "                 \"classifier__n_estimators\": [10, 100, 1000],\n",
    "                 \"classifier__max_depth\":[5,8,15,25,30,None],\n",
    "                 \"classifier__min_samples_leaf\":[1,2,5,10,15,100],\n",
    "                 \"classifier__max_leaf_nodes\": [2, 5,10]}]\n",
    "# create a gridsearch of the pipeline, the fit the best model\n",
    "gridsearch = GridSearchCV(pipe, grid_param, cv=5, verbose=0,n_jobs=-1) # Fit grid search\n",
    "best_model = gridsearch.fit(X_train,y_train)"
   ]
  },
  {
   "cell_type": "code",
   "execution_count": 15,
   "metadata": {},
   "outputs": [
    {
     "data": {
      "text/plain": [
       "Pipeline(steps=[('classifier', RandomForestClassifier())])"
      ]
     },
     "execution_count": 15,
     "metadata": {},
     "output_type": "execute_result"
    }
   ],
   "source": [
    "pipe"
   ]
  },
  {
   "cell_type": "code",
   "execution_count": 16,
   "metadata": {},
   "outputs": [
    {
     "data": {
      "text/plain": [
       "GridSearchCV(cv=5,\n",
       "             estimator=Pipeline(steps=[('classifier',\n",
       "                                        RandomForestClassifier())]),\n",
       "             n_jobs=-1,\n",
       "             param_grid=[{'classifier': [LogisticRegression()],\n",
       "                          'classifier__C': array([1.00000000e+00, 2.78255940e+00, 7.74263683e+00, 2.15443469e+01,\n",
       "       5.99484250e+01, 1.66810054e+02, 4.64158883e+02, 1.29154967e+03,\n",
       "       3.59381366e+03, 1.00000000e+04]),\n",
       "                          'classifier__penalty': ['l2', 'l...\n",
       "       5.99484250e+01, 1.66810054e+02, 4.64158883e+02, 1.29154967e+03,\n",
       "       3.59381366e+03, 1.00000000e+04]),\n",
       "                          'classifier__penalty': ['l2'],\n",
       "                          'classifier__solver': ['newton-cg', 'saga', 'sag',\n",
       "                                                 'liblinear']},\n",
       "                         {'classifier': [RandomForestClassifier()],\n",
       "                          'classifier__max_depth': [5, 8, 15, 25, 30, None],\n",
       "                          'classifier__max_leaf_nodes': [2, 5, 10],\n",
       "                          'classifier__min_samples_leaf': [1, 2, 5, 10, 15,\n",
       "                                                           100],\n",
       "                          'classifier__n_estimators': [10, 100, 1000]}])"
      ]
     },
     "execution_count": 16,
     "metadata": {},
     "output_type": "execute_result"
    }
   ],
   "source": [
    "gridsearch"
   ]
  },
  {
   "cell_type": "code",
   "execution_count": 17,
   "metadata": {},
   "outputs": [
    {
     "data": {
      "text/html": [
       "<div>\n",
       "<style scoped>\n",
       "    .dataframe tbody tr th:only-of-type {\n",
       "        vertical-align: middle;\n",
       "    }\n",
       "\n",
       "    .dataframe tbody tr th {\n",
       "        vertical-align: top;\n",
       "    }\n",
       "\n",
       "    .dataframe thead th {\n",
       "        text-align: right;\n",
       "    }\n",
       "</style>\n",
       "<table border=\"1\" class=\"dataframe\">\n",
       "  <thead>\n",
       "    <tr style=\"text-align: right;\">\n",
       "      <th></th>\n",
       "      <th>params</th>\n",
       "      <th>mean_test_score</th>\n",
       "      <th>rank_test_score</th>\n",
       "    </tr>\n",
       "  </thead>\n",
       "  <tbody>\n",
       "    <tr>\n",
       "      <th>0</th>\n",
       "      <td>{'classifier': LogisticRegression(), 'classifi...</td>\n",
       "      <td>0.952381</td>\n",
       "      <td>44</td>\n",
       "    </tr>\n",
       "    <tr>\n",
       "      <th>1</th>\n",
       "      <td>{'classifier': LogisticRegression(), 'classifi...</td>\n",
       "      <td>NaN</td>\n",
       "      <td>375</td>\n",
       "    </tr>\n",
       "    <tr>\n",
       "      <th>2</th>\n",
       "      <td>{'classifier': LogisticRegression(), 'classifi...</td>\n",
       "      <td>0.942857</td>\n",
       "      <td>83</td>\n",
       "    </tr>\n",
       "    <tr>\n",
       "      <th>3</th>\n",
       "      <td>{'classifier': LogisticRegression(), 'classifi...</td>\n",
       "      <td>NaN</td>\n",
       "      <td>376</td>\n",
       "    </tr>\n",
       "    <tr>\n",
       "      <th>4</th>\n",
       "      <td>{'classifier': LogisticRegression(), 'classifi...</td>\n",
       "      <td>0.942857</td>\n",
       "      <td>83</td>\n",
       "    </tr>\n",
       "    <tr>\n",
       "      <th>...</th>\n",
       "      <td>...</td>\n",
       "      <td>...</td>\n",
       "      <td>...</td>\n",
       "    </tr>\n",
       "    <tr>\n",
       "      <th>379</th>\n",
       "      <td>{'classifier': RandomForestClassifier(), 'clas...</td>\n",
       "      <td>0.933333</td>\n",
       "      <td>213</td>\n",
       "    </tr>\n",
       "    <tr>\n",
       "      <th>380</th>\n",
       "      <td>{'classifier': RandomForestClassifier(), 'clas...</td>\n",
       "      <td>0.942857</td>\n",
       "      <td>83</td>\n",
       "    </tr>\n",
       "    <tr>\n",
       "      <th>381</th>\n",
       "      <td>{'classifier': RandomForestClassifier(), 'clas...</td>\n",
       "      <td>0.361905</td>\n",
       "      <td>369</td>\n",
       "    </tr>\n",
       "    <tr>\n",
       "      <th>382</th>\n",
       "      <td>{'classifier': RandomForestClassifier(), 'clas...</td>\n",
       "      <td>0.371429</td>\n",
       "      <td>321</td>\n",
       "    </tr>\n",
       "    <tr>\n",
       "      <th>383</th>\n",
       "      <td>{'classifier': RandomForestClassifier(), 'clas...</td>\n",
       "      <td>0.371429</td>\n",
       "      <td>321</td>\n",
       "    </tr>\n",
       "  </tbody>\n",
       "</table>\n",
       "<p>384 rows × 3 columns</p>\n",
       "</div>"
      ],
      "text/plain": [
       "                                                params  mean_test_score  \\\n",
       "0    {'classifier': LogisticRegression(), 'classifi...         0.952381   \n",
       "1    {'classifier': LogisticRegression(), 'classifi...              NaN   \n",
       "2    {'classifier': LogisticRegression(), 'classifi...         0.942857   \n",
       "3    {'classifier': LogisticRegression(), 'classifi...              NaN   \n",
       "4    {'classifier': LogisticRegression(), 'classifi...         0.942857   \n",
       "..                                                 ...              ...   \n",
       "379  {'classifier': RandomForestClassifier(), 'clas...         0.933333   \n",
       "380  {'classifier': RandomForestClassifier(), 'clas...         0.942857   \n",
       "381  {'classifier': RandomForestClassifier(), 'clas...         0.361905   \n",
       "382  {'classifier': RandomForestClassifier(), 'clas...         0.371429   \n",
       "383  {'classifier': RandomForestClassifier(), 'clas...         0.371429   \n",
       "\n",
       "     rank_test_score  \n",
       "0                 44  \n",
       "1                375  \n",
       "2                 83  \n",
       "3                376  \n",
       "4                 83  \n",
       "..               ...  \n",
       "379              213  \n",
       "380               83  \n",
       "381              369  \n",
       "382              321  \n",
       "383              321  \n",
       "\n",
       "[384 rows x 3 columns]"
      ]
     },
     "execution_count": 17,
     "metadata": {},
     "output_type": "execute_result"
    }
   ],
   "source": [
    "# convert results into a DataFrame\n",
    "import pandas as pd\n",
    "results = pd.DataFrame(best_model.cv_results_)[['params', 'mean_test_score', 'rank_test_score']]\n",
    "results"
   ]
  },
  {
   "cell_type": "code",
   "execution_count": 18,
   "metadata": {
    "scrolled": true
   },
   "outputs": [
    {
     "data": {
      "text/html": [
       "<div>\n",
       "<style scoped>\n",
       "    .dataframe tbody tr th:only-of-type {\n",
       "        vertical-align: middle;\n",
       "    }\n",
       "\n",
       "    .dataframe tbody tr th {\n",
       "        vertical-align: top;\n",
       "    }\n",
       "\n",
       "    .dataframe thead th {\n",
       "        text-align: right;\n",
       "    }\n",
       "</style>\n",
       "<table border=\"1\" class=\"dataframe\">\n",
       "  <thead>\n",
       "    <tr style=\"text-align: right;\">\n",
       "      <th></th>\n",
       "      <th>params</th>\n",
       "      <th>mean_test_score</th>\n",
       "      <th>rank_test_score</th>\n",
       "    </tr>\n",
       "  </thead>\n",
       "  <tbody>\n",
       "    <tr>\n",
       "      <th>25</th>\n",
       "      <td>{'classifier': LogisticRegression(solver='saga...</td>\n",
       "      <td>0.980952</td>\n",
       "      <td>1</td>\n",
       "    </tr>\n",
       "    <tr>\n",
       "      <th>22</th>\n",
       "      <td>{'classifier': LogisticRegression(solver='saga...</td>\n",
       "      <td>0.980952</td>\n",
       "      <td>1</td>\n",
       "    </tr>\n",
       "    <tr>\n",
       "      <th>21</th>\n",
       "      <td>{'classifier': LogisticRegression(solver='saga...</td>\n",
       "      <td>0.980952</td>\n",
       "      <td>1</td>\n",
       "    </tr>\n",
       "    <tr>\n",
       "      <th>26</th>\n",
       "      <td>{'classifier': LogisticRegression(solver='saga...</td>\n",
       "      <td>0.980952</td>\n",
       "      <td>1</td>\n",
       "    </tr>\n",
       "    <tr>\n",
       "      <th>57</th>\n",
       "      <td>{'classifier': LogisticRegression(solver='saga...</td>\n",
       "      <td>0.980952</td>\n",
       "      <td>1</td>\n",
       "    </tr>\n",
       "    <tr>\n",
       "      <th>...</th>\n",
       "      <td>...</td>\n",
       "      <td>...</td>\n",
       "      <td>...</td>\n",
       "    </tr>\n",
       "    <tr>\n",
       "      <th>15</th>\n",
       "      <td>{'classifier': LogisticRegression(), 'classifi...</td>\n",
       "      <td>NaN</td>\n",
       "      <td>380</td>\n",
       "    </tr>\n",
       "    <tr>\n",
       "      <th>17</th>\n",
       "      <td>{'classifier': LogisticRegression(), 'classifi...</td>\n",
       "      <td>NaN</td>\n",
       "      <td>381</td>\n",
       "    </tr>\n",
       "    <tr>\n",
       "      <th>19</th>\n",
       "      <td>{'classifier': LogisticRegression(), 'classifi...</td>\n",
       "      <td>NaN</td>\n",
       "      <td>382</td>\n",
       "    </tr>\n",
       "    <tr>\n",
       "      <th>5</th>\n",
       "      <td>{'classifier': LogisticRegression(), 'classifi...</td>\n",
       "      <td>NaN</td>\n",
       "      <td>383</td>\n",
       "    </tr>\n",
       "    <tr>\n",
       "      <th>11</th>\n",
       "      <td>{'classifier': LogisticRegression(), 'classifi...</td>\n",
       "      <td>NaN</td>\n",
       "      <td>384</td>\n",
       "    </tr>\n",
       "  </tbody>\n",
       "</table>\n",
       "<p>384 rows × 3 columns</p>\n",
       "</div>"
      ],
      "text/plain": [
       "                                               params  mean_test_score  \\\n",
       "25  {'classifier': LogisticRegression(solver='saga...         0.980952   \n",
       "22  {'classifier': LogisticRegression(solver='saga...         0.980952   \n",
       "21  {'classifier': LogisticRegression(solver='saga...         0.980952   \n",
       "26  {'classifier': LogisticRegression(solver='saga...         0.980952   \n",
       "57  {'classifier': LogisticRegression(solver='saga...         0.980952   \n",
       "..                                                ...              ...   \n",
       "15  {'classifier': LogisticRegression(), 'classifi...              NaN   \n",
       "17  {'classifier': LogisticRegression(), 'classifi...              NaN   \n",
       "19  {'classifier': LogisticRegression(), 'classifi...              NaN   \n",
       "5   {'classifier': LogisticRegression(), 'classifi...              NaN   \n",
       "11  {'classifier': LogisticRegression(), 'classifi...              NaN   \n",
       "\n",
       "    rank_test_score  \n",
       "25                1  \n",
       "22                1  \n",
       "21                1  \n",
       "26                1  \n",
       "57                1  \n",
       "..              ...  \n",
       "15              380  \n",
       "17              381  \n",
       "19              382  \n",
       "5               383  \n",
       "11              384  \n",
       "\n",
       "[384 rows x 3 columns]"
      ]
     },
     "execution_count": 18,
     "metadata": {},
     "output_type": "execute_result"
    }
   ],
   "source": [
    "# sort by test score\n",
    "results.sort_values('rank_test_score')"
   ]
  },
  {
   "cell_type": "code",
   "execution_count": 19,
   "metadata": {
    "scrolled": true
   },
   "outputs": [
    {
     "name": "stdout",
     "output_type": "stream",
     "text": [
      "Pipeline(steps=[('classifier', LogisticRegression(solver='saga'))])\n",
      "{'classifier': LogisticRegression(solver='saga'), 'classifier__C': 1.0, 'classifier__penalty': 'l2', 'classifier__solver': 'saga'}\n",
      "0.980952380952381\n"
     ]
    }
   ],
   "source": [
    "print(best_model.best_estimator_)\n",
    "print(best_model.best_params_)\n",
    "print(best_model.best_score_) # train-set accuracy score"
   ]
  },
  {
   "cell_type": "code",
   "execution_count": 20,
   "metadata": {},
   "outputs": [
    {
     "name": "stdout",
     "output_type": "stream",
     "text": [
      "The mean accuracy of the model is: 0.9555555555555556\n"
     ]
    }
   ],
   "source": [
    "# test-set accuracy score\n",
    "print(\"The mean accuracy of the model is:\",best_model.score(X_test,y_test))"
   ]
  },
  {
   "cell_type": "markdown",
   "metadata": {},
   "source": [
    "## Using MakePipelines In Sklearn"
   ]
  },
  {
   "cell_type": "code",
   "execution_count": 21,
   "metadata": {},
   "outputs": [],
   "source": [
    "from sklearn.pipeline import make_pipeline"
   ]
  },
  {
   "cell_type": "code",
   "execution_count": 22,
   "metadata": {},
   "outputs": [],
   "source": [
    "# Create a pipeline\n",
    "pipe = make_pipeline((RandomForestClassifier()))\n",
    "# Create dictionary with candidate learning algorithms and their hyperparameters\n",
    "grid_param = [\n",
    "                {\"randomforestclassifier\": [RandomForestClassifier()],\n",
    "                 \"randomforestclassifier__n_estimators\": [10, 100, 1000],\n",
    "                 \"randomforestclassifier__max_depth\":[5,8,15,25,30,None],\n",
    "                 \"randomforestclassifier__min_samples_leaf\":[1,2,5,10,15,100],\n",
    "                 \"randomforestclassifier__max_leaf_nodes\": [2, 5,10]}]\n",
    "# create a gridsearch of the pipeline, the fit the best model\n",
    "gridsearch = GridSearchCV(pipe, grid_param, cv=5, verbose=0,n_jobs=-1) # Fit grid search\n",
    "best_model = gridsearch.fit(X_train,y_train)"
   ]
  },
  {
   "cell_type": "code",
   "execution_count": 23,
   "metadata": {},
   "outputs": [
    {
     "data": {
      "text/plain": [
       "Pipeline(steps=[('randomforestclassifier', RandomForestClassifier())])"
      ]
     },
     "execution_count": 23,
     "metadata": {},
     "output_type": "execute_result"
    }
   ],
   "source": [
    "pipe"
   ]
  },
  {
   "cell_type": "code",
   "execution_count": 24,
   "metadata": {},
   "outputs": [
    {
     "data": {
      "text/plain": [
       "GridSearchCV(cv=5,\n",
       "             estimator=Pipeline(steps=[('randomforestclassifier',\n",
       "                                        RandomForestClassifier())]),\n",
       "             n_jobs=-1,\n",
       "             param_grid=[{'randomforestclassifier': [RandomForestClassifier(max_depth=25,\n",
       "                                                                            max_leaf_nodes=5,\n",
       "                                                                            min_samples_leaf=5,\n",
       "                                                                            n_estimators=10)],\n",
       "                          'randomforestclassifier__max_depth': [5, 8, 15, 25,\n",
       "                                                                30, None],\n",
       "                          'randomforestclassifier__max_leaf_nodes': [2, 5, 10],\n",
       "                          'randomforestclassifier__min_samples_leaf': [1, 2, 5,\n",
       "                                                                       10, 15,\n",
       "                                                                       100],\n",
       "                          'randomforestclassifier__n_estimators': [10, 100,\n",
       "                                                                   1000]}])"
      ]
     },
     "execution_count": 24,
     "metadata": {},
     "output_type": "execute_result"
    }
   ],
   "source": [
    "gridsearch"
   ]
  },
  {
   "cell_type": "code",
   "execution_count": 25,
   "metadata": {},
   "outputs": [
    {
     "data": {
      "text/html": [
       "<div>\n",
       "<style scoped>\n",
       "    .dataframe tbody tr th:only-of-type {\n",
       "        vertical-align: middle;\n",
       "    }\n",
       "\n",
       "    .dataframe tbody tr th {\n",
       "        vertical-align: top;\n",
       "    }\n",
       "\n",
       "    .dataframe thead th {\n",
       "        text-align: right;\n",
       "    }\n",
       "</style>\n",
       "<table border=\"1\" class=\"dataframe\">\n",
       "  <thead>\n",
       "    <tr style=\"text-align: right;\">\n",
       "      <th></th>\n",
       "      <th>params</th>\n",
       "      <th>mean_test_score</th>\n",
       "      <th>rank_test_score</th>\n",
       "    </tr>\n",
       "  </thead>\n",
       "  <tbody>\n",
       "    <tr>\n",
       "      <th>0</th>\n",
       "      <td>{'randomforestclassifier': RandomForestClassif...</td>\n",
       "      <td>0.876190</td>\n",
       "      <td>251</td>\n",
       "    </tr>\n",
       "    <tr>\n",
       "      <th>1</th>\n",
       "      <td>{'randomforestclassifier': RandomForestClassif...</td>\n",
       "      <td>0.914286</td>\n",
       "      <td>217</td>\n",
       "    </tr>\n",
       "    <tr>\n",
       "      <th>2</th>\n",
       "      <td>{'randomforestclassifier': RandomForestClassif...</td>\n",
       "      <td>0.914286</td>\n",
       "      <td>217</td>\n",
       "    </tr>\n",
       "    <tr>\n",
       "      <th>3</th>\n",
       "      <td>{'randomforestclassifier': RandomForestClassif...</td>\n",
       "      <td>0.761905</td>\n",
       "      <td>269</td>\n",
       "    </tr>\n",
       "    <tr>\n",
       "      <th>4</th>\n",
       "      <td>{'randomforestclassifier': RandomForestClassif...</td>\n",
       "      <td>0.828571</td>\n",
       "      <td>259</td>\n",
       "    </tr>\n",
       "    <tr>\n",
       "      <th>...</th>\n",
       "      <td>...</td>\n",
       "      <td>...</td>\n",
       "      <td>...</td>\n",
       "    </tr>\n",
       "    <tr>\n",
       "      <th>319</th>\n",
       "      <td>{'randomforestclassifier': RandomForestClassif...</td>\n",
       "      <td>0.952381</td>\n",
       "      <td>6</td>\n",
       "    </tr>\n",
       "    <tr>\n",
       "      <th>320</th>\n",
       "      <td>{'randomforestclassifier': RandomForestClassif...</td>\n",
       "      <td>0.942857</td>\n",
       "      <td>49</td>\n",
       "    </tr>\n",
       "    <tr>\n",
       "      <th>321</th>\n",
       "      <td>{'randomforestclassifier': RandomForestClassif...</td>\n",
       "      <td>0.371429</td>\n",
       "      <td>271</td>\n",
       "    </tr>\n",
       "    <tr>\n",
       "      <th>322</th>\n",
       "      <td>{'randomforestclassifier': RandomForestClassif...</td>\n",
       "      <td>0.371429</td>\n",
       "      <td>271</td>\n",
       "    </tr>\n",
       "    <tr>\n",
       "      <th>323</th>\n",
       "      <td>{'randomforestclassifier': RandomForestClassif...</td>\n",
       "      <td>0.371429</td>\n",
       "      <td>271</td>\n",
       "    </tr>\n",
       "  </tbody>\n",
       "</table>\n",
       "<p>324 rows × 3 columns</p>\n",
       "</div>"
      ],
      "text/plain": [
       "                                                params  mean_test_score  \\\n",
       "0    {'randomforestclassifier': RandomForestClassif...         0.876190   \n",
       "1    {'randomforestclassifier': RandomForestClassif...         0.914286   \n",
       "2    {'randomforestclassifier': RandomForestClassif...         0.914286   \n",
       "3    {'randomforestclassifier': RandomForestClassif...         0.761905   \n",
       "4    {'randomforestclassifier': RandomForestClassif...         0.828571   \n",
       "..                                                 ...              ...   \n",
       "319  {'randomforestclassifier': RandomForestClassif...         0.952381   \n",
       "320  {'randomforestclassifier': RandomForestClassif...         0.942857   \n",
       "321  {'randomforestclassifier': RandomForestClassif...         0.371429   \n",
       "322  {'randomforestclassifier': RandomForestClassif...         0.371429   \n",
       "323  {'randomforestclassifier': RandomForestClassif...         0.371429   \n",
       "\n",
       "     rank_test_score  \n",
       "0                251  \n",
       "1                217  \n",
       "2                217  \n",
       "3                269  \n",
       "4                259  \n",
       "..               ...  \n",
       "319                6  \n",
       "320               49  \n",
       "321              271  \n",
       "322              271  \n",
       "323              271  \n",
       "\n",
       "[324 rows x 3 columns]"
      ]
     },
     "execution_count": 25,
     "metadata": {},
     "output_type": "execute_result"
    }
   ],
   "source": [
    "# convert results into a DataFrame\n",
    "import pandas as pd\n",
    "results = pd.DataFrame(best_model.cv_results_)[['params', 'mean_test_score', 'rank_test_score']]\n",
    "results"
   ]
  },
  {
   "cell_type": "code",
   "execution_count": 26,
   "metadata": {},
   "outputs": [
    {
     "data": {
      "text/html": [
       "<div>\n",
       "<style scoped>\n",
       "    .dataframe tbody tr th:only-of-type {\n",
       "        vertical-align: middle;\n",
       "    }\n",
       "\n",
       "    .dataframe tbody tr th {\n",
       "        vertical-align: top;\n",
       "    }\n",
       "\n",
       "    .dataframe thead th {\n",
       "        text-align: right;\n",
       "    }\n",
       "</style>\n",
       "<table border=\"1\" class=\"dataframe\">\n",
       "  <thead>\n",
       "    <tr style=\"text-align: right;\">\n",
       "      <th></th>\n",
       "      <th>params</th>\n",
       "      <th>mean_test_score</th>\n",
       "      <th>rank_test_score</th>\n",
       "    </tr>\n",
       "  </thead>\n",
       "  <tbody>\n",
       "    <tr>\n",
       "      <th>186</th>\n",
       "      <td>{'randomforestclassifier': RandomForestClassif...</td>\n",
       "      <td>0.971429</td>\n",
       "      <td>1</td>\n",
       "    </tr>\n",
       "    <tr>\n",
       "      <th>82</th>\n",
       "      <td>{'randomforestclassifier': RandomForestClassif...</td>\n",
       "      <td>0.961905</td>\n",
       "      <td>2</td>\n",
       "    </tr>\n",
       "    <tr>\n",
       "      <th>45</th>\n",
       "      <td>{'randomforestclassifier': RandomForestClassif...</td>\n",
       "      <td>0.961905</td>\n",
       "      <td>2</td>\n",
       "    </tr>\n",
       "    <tr>\n",
       "      <th>103</th>\n",
       "      <td>{'randomforestclassifier': RandomForestClassif...</td>\n",
       "      <td>0.961905</td>\n",
       "      <td>2</td>\n",
       "    </tr>\n",
       "    <tr>\n",
       "      <th>309</th>\n",
       "      <td>{'randomforestclassifier': RandomForestClassif...</td>\n",
       "      <td>0.961905</td>\n",
       "      <td>2</td>\n",
       "    </tr>\n",
       "    <tr>\n",
       "      <th>...</th>\n",
       "      <td>...</td>\n",
       "      <td>...</td>\n",
       "      <td>...</td>\n",
       "    </tr>\n",
       "    <tr>\n",
       "      <th>195</th>\n",
       "      <td>{'randomforestclassifier': RandomForestClassif...</td>\n",
       "      <td>0.361905</td>\n",
       "      <td>319</td>\n",
       "    </tr>\n",
       "    <tr>\n",
       "      <th>105</th>\n",
       "      <td>{'randomforestclassifier': RandomForestClassif...</td>\n",
       "      <td>0.361905</td>\n",
       "      <td>319</td>\n",
       "    </tr>\n",
       "    <tr>\n",
       "      <th>15</th>\n",
       "      <td>{'randomforestclassifier': RandomForestClassif...</td>\n",
       "      <td>0.352381</td>\n",
       "      <td>322</td>\n",
       "    </tr>\n",
       "    <tr>\n",
       "      <th>87</th>\n",
       "      <td>{'randomforestclassifier': RandomForestClassif...</td>\n",
       "      <td>0.352381</td>\n",
       "      <td>322</td>\n",
       "    </tr>\n",
       "    <tr>\n",
       "      <th>159</th>\n",
       "      <td>{'randomforestclassifier': RandomForestClassif...</td>\n",
       "      <td>0.352381</td>\n",
       "      <td>322</td>\n",
       "    </tr>\n",
       "  </tbody>\n",
       "</table>\n",
       "<p>324 rows × 3 columns</p>\n",
       "</div>"
      ],
      "text/plain": [
       "                                                params  mean_test_score  \\\n",
       "186  {'randomforestclassifier': RandomForestClassif...         0.971429   \n",
       "82   {'randomforestclassifier': RandomForestClassif...         0.961905   \n",
       "45   {'randomforestclassifier': RandomForestClassif...         0.961905   \n",
       "103  {'randomforestclassifier': RandomForestClassif...         0.961905   \n",
       "309  {'randomforestclassifier': RandomForestClassif...         0.961905   \n",
       "..                                                 ...              ...   \n",
       "195  {'randomforestclassifier': RandomForestClassif...         0.361905   \n",
       "105  {'randomforestclassifier': RandomForestClassif...         0.361905   \n",
       "15   {'randomforestclassifier': RandomForestClassif...         0.352381   \n",
       "87   {'randomforestclassifier': RandomForestClassif...         0.352381   \n",
       "159  {'randomforestclassifier': RandomForestClassif...         0.352381   \n",
       "\n",
       "     rank_test_score  \n",
       "186                1  \n",
       "82                 2  \n",
       "45                 2  \n",
       "103                2  \n",
       "309                2  \n",
       "..               ...  \n",
       "195              319  \n",
       "105              319  \n",
       "15               322  \n",
       "87               322  \n",
       "159              322  \n",
       "\n",
       "[324 rows x 3 columns]"
      ]
     },
     "execution_count": 26,
     "metadata": {},
     "output_type": "execute_result"
    }
   ],
   "source": [
    "# sort by test score\n",
    "results.sort_values('rank_test_score')"
   ]
  },
  {
   "cell_type": "code",
   "execution_count": 27,
   "metadata": {},
   "outputs": [
    {
     "name": "stdout",
     "output_type": "stream",
     "text": [
      "Pipeline(steps=[('randomforestclassifier',\n",
      "                 RandomForestClassifier(max_depth=25, max_leaf_nodes=5,\n",
      "                                        min_samples_leaf=5, n_estimators=10))])\n",
      "{'randomforestclassifier': RandomForestClassifier(max_depth=25, max_leaf_nodes=5, min_samples_leaf=5,\n",
      "                       n_estimators=10), 'randomforestclassifier__max_depth': 25, 'randomforestclassifier__max_leaf_nodes': 5, 'randomforestclassifier__min_samples_leaf': 5, 'randomforestclassifier__n_estimators': 10}\n",
      "0.9714285714285715\n"
     ]
    }
   ],
   "source": [
    "print(best_model.best_estimator_)\n",
    "print(best_model.best_params_)\n",
    "print(best_model.best_score_) # train-set accuracy score"
   ]
  },
  {
   "cell_type": "code",
   "execution_count": 28,
   "metadata": {},
   "outputs": [
    {
     "data": {
      "text/plain": [
       "0.9777777777777777"
      ]
     },
     "execution_count": 28,
     "metadata": {},
     "output_type": "execute_result"
    }
   ],
   "source": [
    "# test-set accuracy score\n",
    "best_model.score(X_test,y_test)"
   ]
  },
  {
   "cell_type": "code",
   "execution_count": null,
   "metadata": {},
   "outputs": [],
   "source": []
  }
 ],
 "metadata": {
  "kernelspec": {
   "display_name": "Python 3 (ipykernel)",
   "language": "python",
   "name": "python3"
  },
  "language_info": {
   "codemirror_mode": {
    "name": "ipython",
    "version": 3
   },
   "file_extension": ".py",
   "mimetype": "text/x-python",
   "name": "python",
   "nbconvert_exporter": "python",
   "pygments_lexer": "ipython3",
   "version": "3.8.8"
  }
 },
 "nbformat": 4,
 "nbformat_minor": 2
}
