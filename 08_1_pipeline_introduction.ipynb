{
 "cells": [
  {
   "cell_type": "markdown",
   "id": "a31ab7d9",
   "metadata": {},
   "source": [
    "# Pipelines\n",
    "Pipeline of transforms with a final estimator.\n",
    "\n",
    "Sequentially apply a list of transforms and a final estimator. Intermediate steps of the pipeline must be ‘transforms’, that is, they must implement fit and transform methods. The final estimator only needs to implement fit. \n",
    "\n",
    "**Chains together multiple steps: output of each step is used as input to the next step.**\n",
    "\n",
    "**Makes it easy to apply the same preprocessing to train and test!**"
   ]
  },
  {
   "cell_type": "markdown",
   "id": "1501b489",
   "metadata": {},
   "source": [
    "## Construction"
   ]
  },
  {
   "cell_type": "code",
   "execution_count": 1,
   "id": "2a12ab83",
   "metadata": {},
   "outputs": [
    {
     "data": {
      "text/plain": [
       "Pipeline(steps=[('reduce_dim', PCA()), ('clf', SVC())])"
      ]
     },
     "execution_count": 1,
     "metadata": {},
     "output_type": "execute_result"
    }
   ],
   "source": [
    "from sklearn.pipeline import Pipeline\n",
    "from sklearn.svm import SVC\n",
    "from sklearn.decomposition import PCA\n",
    "estimators = [('reduce_dim', PCA()), ('clf', SVC())]\n",
    "pipe = Pipeline(estimators)\n",
    "pipe"
   ]
  },
  {
   "cell_type": "markdown",
   "id": "e7835e24",
   "metadata": {},
   "source": [
    "## Accessing steps"
   ]
  },
  {
   "cell_type": "code",
   "execution_count": 7,
   "id": "2b52e38f",
   "metadata": {},
   "outputs": [
    {
     "name": "stdout",
     "output_type": "stream",
     "text": [
      "('reduce_dim', PCA())\n",
      "PCA()\n",
      "PCA()\n"
     ]
    }
   ],
   "source": [
    "# The estimators of a pipeline are stored as a list in the steps attribute, but can be accessed by index or name \n",
    "# by indexing (with [idx]) the Pipeline\n",
    "\n",
    "print(pipe.steps[0])\n",
    "print(pipe[0])\n",
    "print(pipe['reduce_dim'])"
   ]
  },
  {
   "cell_type": "code",
   "execution_count": 5,
   "id": "c5a0ed9f",
   "metadata": {},
   "outputs": [
    {
     "data": {
      "text/plain": [
       "True"
      ]
     },
     "execution_count": 5,
     "metadata": {},
     "output_type": "execute_result"
    }
   ],
   "source": [
    "# Pipeline’s named_steps attribute allows accessing steps by name with tab completion in interactive environments:\n",
    "pipe.named_steps.reduce_dim is pipe['reduce_dim']"
   ]
  },
  {
   "cell_type": "code",
   "execution_count": 6,
   "id": "691d5232",
   "metadata": {},
   "outputs": [
    {
     "name": "stdout",
     "output_type": "stream",
     "text": [
      "Pipeline(steps=[('reduce_dim', PCA())])\n",
      "Pipeline(steps=[('clf', SVC())])\n"
     ]
    }
   ],
   "source": [
    "# A sub-pipeline can also be extracted using the slicing notation commonly used for Python Sequences such as lists.\n",
    "#(although only a step of 1 is permitted).\n",
    "print(pipe[:1])\n",
    "print(pipe[-1:])"
   ]
  },
  {
   "cell_type": "markdown",
   "id": "73632709",
   "metadata": {},
   "source": [
    "## Nested parameters\n",
    "### Parameters of the estimators in the pipeline can be accessed using the \"estimator__parameter\" syntax"
   ]
  },
  {
   "cell_type": "code",
   "execution_count": 8,
   "id": "6179eb24",
   "metadata": {},
   "outputs": [
    {
     "data": {
      "text/plain": [
       "Pipeline(steps=[('reduce_dim', PCA()), ('clf', SVC(C=10))])"
      ]
     },
     "execution_count": 8,
     "metadata": {},
     "output_type": "execute_result"
    }
   ],
   "source": [
    "pipe.set_params(clf__C=10)"
   ]
  },
  {
   "cell_type": "markdown",
   "id": "836614d4",
   "metadata": {},
   "source": [
    "## Can also be implemented in CV\n",
    "**The purpose of the pipeline is to assemble several steps that can be cross-validated together while setting different parameters.**<br>\n",
    "**It enables setting parameters of the various steps using their names and the parameter name separated by a ‘__’, as in the example below.**"
   ]
  },
  {
   "cell_type": "code",
   "execution_count": 9,
   "id": "4eae7ab3",
   "metadata": {},
   "outputs": [],
   "source": [
    "from sklearn.model_selection import GridSearchCV\n",
    "param_grid = dict(reduce_dim__n_components=[2, 5, 10],\n",
    "                  clf__C=[0.1, 10, 100])\n",
    "grid_search = GridSearchCV(pipe, param_grid=param_grid)"
   ]
  },
  {
   "cell_type": "code",
   "execution_count": null,
   "id": "e74a1839",
   "metadata": {},
   "outputs": [],
   "source": []
  }
 ],
 "metadata": {
  "kernelspec": {
   "display_name": "Python 3 (ipykernel)",
   "language": "python",
   "name": "python3"
  },
  "language_info": {
   "codemirror_mode": {
    "name": "ipython",
    "version": 3
   },
   "file_extension": ".py",
   "mimetype": "text/x-python",
   "name": "python",
   "nbconvert_exporter": "python",
   "pygments_lexer": "ipython3",
   "version": "3.8.8"
  }
 },
 "nbformat": 4,
 "nbformat_minor": 5
}
